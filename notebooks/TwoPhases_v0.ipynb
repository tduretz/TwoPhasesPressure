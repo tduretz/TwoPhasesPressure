{
 "cells": [
  {
   "cell_type": "code",
   "execution_count": 4,
   "metadata": {},
   "outputs": [],
   "source": [
    "from sympy import *"
   ]
  },
  {
   "cell_type": "code",
   "execution_count": 9,
   "metadata": {},
   "outputs": [
    {
     "name": "stdout",
     "output_type": "stream",
     "text": [
      "-k_ef_S .* (1 - BCPfS) ./ dy .^ 2\n",
      "-k_ef_W .* (1 - BCPfW) ./ dx .^ 2\n",
      "1 ./ e_phi + (k_ef_N .* (1 - BCPfN) ./ dy + k_ef_S .* (1 - BCPfS) ./ dy) ./ dy + (k_ef_E .* (1 - BCPfE) ./ dx + k_ef_W .* (1 - BCPfW) ./ dx) ./ dx\n",
      "-k_ef_E .* (1 - BCPfE) ./ dx .^ 2\n",
      "-k_ef_N .* (1 - BCPfN) ./ dy .^ 2\n"
     ]
    }
   ],
   "source": [
    "dx, dy = symbols('dx, dy')\n",
    "PfC, PfS, PfW, PfE, PfN = symbols('PfC, PfS, PfW, PfE, PfN')\n",
    "k_ef_W, k_ef_E, k_ef_S, k_ef_N = symbols('k_ef_W, k_ef_E, k_ef_S, k_ef_N')\n",
    "PtC, eta_phi = symbols('PtC, e_phi')\n",
    "BCPfW, BCPfE, BCPfS, BCPfN = symbols('BCPfW, BCPfE, BCPfS, BCPfN')\n",
    "\n",
    "qxW = (1-BCPfW) * -k_ef_W*(PfC-PfW)/dx + BCPfW * 0\n",
    "qxE = (1-BCPfE) * -k_ef_E*(PfE-PfC)/dx + BCPfE * 0 \n",
    "qyS = (1-BCPfS) * -k_ef_S*(PfC-PfS)/dy + BCPfS * 0\n",
    "qyN = (1-BCPfN) * -k_ef_N*(PfN-PfC)/dy + BCPfN * 0\n",
    "fp  = (qxE-qxW)/dx + (qyN-qyS)/dy - (PtC-PfC)/eta_phi\n",
    "\n",
    "print(julia_code(fp.diff(PfS)))\n",
    "print(julia_code(fp.diff(PfW)))\n",
    "print(julia_code(fp.diff(PfC)))\n",
    "print(julia_code(fp.diff(PfE)))\n",
    "print(julia_code(fp.diff(PfN)))"
   ]
  },
  {
   "cell_type": "code",
   "execution_count": 12,
   "metadata": {},
   "outputs": [
    {
     "name": "stdout",
     "output_type": "stream",
     "text": [
      "-1 ./ dx\n",
      "1 ./ dx\n",
      "-1 ./ dy\n",
      "1 ./ dy\n",
      "1 ./ e_phi\n"
     ]
    }
   ],
   "source": [
    "VyS, VyN, VxW, VxE = symbols('VyS, VyN, VxW, VxE')\n",
    "fp = (VxE-VxW)/dx + (VyN-VyS)/dy + (PtC-PfC)/eta_phi \n",
    "print(julia_code(fp.diff(VxW)))\n",
    "print(julia_code(fp.diff(VxE)))\n",
    "print(julia_code(fp.diff(VyS)))\n",
    "print(julia_code(fp.diff(VyN)))\n",
    "print(julia_code(fp.diff(PtC)))"
   ]
  },
  {
   "cell_type": "code",
   "execution_count": 29,
   "metadata": {},
   "outputs": [
    {
     "name": "stdout",
     "output_type": "stream",
     "text": [
      "-eS .* (-DirS - NeuS + 1) ./ dy .^ 2\n",
      "-4 // 3 * eW ./ dx .^ 2\n",
      "(3 * dx .^ 2 .* (-eN .* (2 * DirN .* dy + DirN + NeuN - 1) + eS .* (2 * DirS .* dy - DirS - NeuS + 1)) + 4 * dy .^ 2 .* (eE + eW)) ./ (3 * dx .^ 2 .* dy .^ 2)\n",
      "-4 // 3 * eE ./ dx .^ 2\n",
      "-eN .* (-DirN - NeuN + 1) ./ dy .^ 2\n",
      "-eS ./ (dx .* dy) + (2 // 3) * eW ./ (dx .* dy)\n",
      "-2 // 3 * eE ./ (dx .* dy) + eS ./ (dx .* dy)\n",
      "eN ./ (dx .* dy) - 2 // 3 * eW ./ (dx .* dy)\n",
      "(2 // 3) * eE ./ (dx .* dy) - eN ./ (dx .* dy)\n",
      "-1 ./ dx\n",
      "1 ./ dx\n"
     ]
    }
   ],
   "source": [
    "# Stokes x\n",
    "VxC, VxW, VxE, VxS, VxN = symbols('VxC, VxW, VxE, VxS, VxN')\n",
    "VySW, VySE, VyNW, VyNE  = symbols('VySW, VySE, VyNW, VyNE')\n",
    "PtW, PtE = symbols('PtW, PtE')\n",
    "eW, eE, eS, eN = symbols('eW, eE, eS, eN')\n",
    "NeuS, DirS, NeuN, DirN = symbols('NeuS, DirS, NeuN, DirN')\n",
    "#---------------------------------------#\n",
    "divVW = (VxC-VxW)/dx + (VyNW-VySW)/dy\n",
    "ExxW  = (VxC-VxW)/dx - Rational(1,3)*divVW\n",
    "TxxW  = 2*eW*ExxW\n",
    "#---------------------------------------#\n",
    "divVE = (VxE-VxC)/dx + (VyNE-VySE)/dy\n",
    "ExxE  = (VxE-VxC)/dx - Rational(1,3)*divVE\n",
    "TxxE  = 2*eE*ExxE\n",
    "#---------------------------------------#\n",
    "dVxdy = (1 - NeuS - DirS) * (VxC-VxS)/dy + NeuS * 0 + DirS * (2*VxC)\n",
    "ExyS  = Rational(1,2) * ( dVxdy + (VySE-VySW)/dx )\n",
    "TxyS  = 2*eS*ExyS\n",
    "#---------------------------------------#\n",
    "dVxdy = (1 - NeuN - DirN) * (VxN-VxC)/dy + NeuN * 0 + DirN * (2*VxC)\n",
    "ExyN  = Rational(1,2) * ( dVxdy + (VyNE-VyNW)/dx )\n",
    "TxyN  = 2*eN*ExyN\n",
    "#---------------------------------------#\n",
    "f = (TxxE-TxxW)/dx + (TxyN-TxyS)/dy - (PtE-PtW)/dx\n",
    "f *= -1\n",
    "#---------------------------------------#\n",
    "print(julia_code(f.diff(VxS)))\n",
    "print(julia_code(f.diff(VxW)))\n",
    "print(julia_code(f.diff(VxC).simplify()))\n",
    "print(julia_code(f.diff(VxE)))\n",
    "print(julia_code(f.diff(VxN)))\n",
    "print(julia_code(f.diff(VySW)))\n",
    "print(julia_code(f.diff(VySE)))\n",
    "print(julia_code(f.diff(VyNW)))\n",
    "print(julia_code(f.diff(VyNE)))\n",
    "print(julia_code(f.diff(PtW)))\n",
    "print(julia_code(f.diff(PtE)))"
   ]
  },
  {
   "cell_type": "code",
   "execution_count": null,
   "metadata": {},
   "outputs": [],
   "source": []
  }
 ],
 "metadata": {
  "kernelspec": {
   "display_name": "Python 3",
   "language": "python",
   "name": "python3"
  },
  "language_info": {
   "codemirror_mode": {
    "name": "ipython",
    "version": 3
   },
   "file_extension": ".py",
   "mimetype": "text/x-python",
   "name": "python",
   "nbconvert_exporter": "python",
   "pygments_lexer": "ipython3",
   "version": "3.9.6"
  }
 },
 "nbformat": 4,
 "nbformat_minor": 2
}
