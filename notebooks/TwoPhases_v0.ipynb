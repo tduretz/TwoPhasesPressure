{
 "cells": [
  {
   "cell_type": "code",
   "execution_count": 2,
   "metadata": {},
   "outputs": [],
   "source": [
    "from sympy import *"
   ]
  },
  {
   "cell_type": "code",
   "execution_count": 9,
   "metadata": {},
   "outputs": [
    {
     "name": "stdout",
     "output_type": "stream",
     "text": [
      "-k_ef_S .* (1 - BCPfS) ./ dy .^ 2\n",
      "-k_ef_W .* (1 - BCPfW) ./ dx .^ 2\n",
      "1 ./ e_phi + (k_ef_N .* (1 - BCPfN) ./ dy + k_ef_S .* (1 - BCPfS) ./ dy) ./ dy + (k_ef_E .* (1 - BCPfE) ./ dx + k_ef_W .* (1 - BCPfW) ./ dx) ./ dx\n",
      "-k_ef_E .* (1 - BCPfE) ./ dx .^ 2\n",
      "-k_ef_N .* (1 - BCPfN) ./ dy .^ 2\n",
      "-1 ./ e_phi\n"
     ]
    }
   ],
   "source": [
    "dx, dy = symbols('dx, dy')\n",
    "PfC, PfS, PfW, PfE, PfN = symbols('PfC, PfS, PfW, PfE, PfN')\n",
    "k_ef_W, k_ef_E, k_ef_S, k_ef_N = symbols('k_ef_W, k_ef_E, k_ef_S, k_ef_N')\n",
    "PtC, eta_phi = symbols('PtC, e_phi')\n",
    "BCPfW, BCPfE, BCPfS, BCPfN = symbols('BCPfW, BCPfE, BCPfS, BCPfN')\n",
    "\n",
    "qxW = (1-BCPfW) * -k_ef_W*(PfC-PfW)/dx + BCPfW * 0\n",
    "qxE = (1-BCPfE) * -k_ef_E*(PfE-PfC)/dx + BCPfE * 0 \n",
    "qyS = (1-BCPfS) * -k_ef_S*(PfC-PfS)/dy + BCPfS * 0\n",
    "qyN = (1-BCPfN) * -k_ef_N*(PfN-PfC)/dy + BCPfN * 0\n",
    "fp  = (qxE-qxW)/dx + (qyN-qyS)/dy - (PtC-PfC)/eta_phi\n",
    "\n",
    "print(julia_code(fp.diff(PfS)))\n",
    "print(julia_code(fp.diff(PfW)))\n",
    "print(julia_code(fp.diff(PfC)))\n",
    "print(julia_code(fp.diff(PfE)))\n",
    "print(julia_code(fp.diff(PfN)))\n",
    "print(julia_code(fp.diff(PtC)))"
   ]
  },
  {
   "cell_type": "code",
   "execution_count": 8,
   "metadata": {},
   "outputs": [
    {
     "name": "stdout",
     "output_type": "stream",
     "text": [
      "-1 ./ dx\n",
      "1 ./ dx\n",
      "-1 ./ dy\n",
      "1 ./ dy\n",
      "1 ./ e_phi\n",
      "-1 ./ e_phi\n"
     ]
    }
   ],
   "source": [
    "# Total continuity\n",
    "VyS, VyN, VxW, VxE = symbols('VyS, VyN, VxW, VxE')\n",
    "fp = (VxE-VxW)/dx + (VyN-VyS)/dy + (PtC-PfC)/eta_phi \n",
    "print(julia_code(fp.diff(VxW)))\n",
    "print(julia_code(fp.diff(VxE)))\n",
    "print(julia_code(fp.diff(VyS)))\n",
    "print(julia_code(fp.diff(VyN)))\n",
    "print(julia_code(fp.diff(PtC)))\n",
    "print(julia_code(fp.diff(PfC)))"
   ]
  },
  {
   "cell_type": "code",
   "execution_count": 12,
   "metadata": {},
   "outputs": [
    {
     "name": "stdout",
     "output_type": "stream",
     "text": [
      "K[ii,iS]  = -eS .* (-DirS - NeuS + 1) ./ dy .^ 2\n",
      "K[ii,iW]  = -4 // 3 * eW ./ dx .^ 2\n",
      "K[ii,iC]  = -(2 * eN .* (-DirN ./ dy - (-DirN - NeuN + 1) ./ (2 * dy)) - 2 * eS .* (DirS ./ dy + (-DirS - NeuS + 1) ./ (2 * dy))) ./ dy - (-4 // 3 * eE ./ dx - 4 // 3 * eW ./ dx) ./ dx\n",
      "K[ii,iE]  = -4 // 3 * eE ./ dx .^ 2\n",
      "K[ii,iN]  = -eN .* (-DirN - NeuN + 1) ./ dy .^ 2\n",
      "K[ii,iSW] = -eS ./ (dx .* dy) + (2 // 3) * eW ./ (dx .* dy)\n",
      "K[ii,iSE] = -2 // 3 * eE ./ (dx .* dy) + eS ./ (dx .* dy)\n",
      "K[ii,iNW] = eN ./ (dx .* dy) - 2 // 3 * eW ./ (dx .* dy)\n",
      "K[ii,iNE] = (2 // 3) * eE ./ (dx .* dy) - eN ./ (dx .* dy)\n",
      "K[ii,iPW] = -1 ./ dx\n",
      "K[ii,iPE] = 1 ./ dx\n"
     ]
    }
   ],
   "source": [
    "# Stokes x\n",
    "VxC, VxW, VxE, VxS, VxN = symbols('VxC, VxW, VxE, VxS, VxN')\n",
    "VySW, VySE, VyNW, VyNE  = symbols('VySW, VySE, VyNW, VyNE')\n",
    "PtW, PtE = symbols('PtW, PtE')\n",
    "eW, eE, eS, eN = symbols('eW, eE, eS, eN')\n",
    "NeuS, DirS, NeuN, DirN = symbols('NeuS, DirS, NeuN, DirN')\n",
    "#---------------------------------------#\n",
    "divVW = (VxC-VxW)/dx + (VyNW-VySW)/dy\n",
    "ExxW  = (VxC-VxW)/dx - Rational(1,3)*divVW\n",
    "TxxW  = 2*eW*ExxW\n",
    "#---------------------------------------#\n",
    "divVE = (VxE-VxC)/dx + (VyNE-VySE)/dy\n",
    "ExxE  = (VxE-VxC)/dx - Rational(1,3)*divVE\n",
    "TxxE  = 2*eE*ExxE\n",
    "#---------------------------------------#\n",
    "VxS_ghost = - VxC\n",
    "dVxdy = (1 - NeuS - DirS) * (VxC-VxS)/dy + NeuS * 0 + DirS * (VxC-VxS_ghost)/dy\n",
    "ExyS  = Rational(1,2) * ( dVxdy + (VySE-VySW)/dx )\n",
    "TxyS  = 2*eS*ExyS\n",
    "#---------------------------------------#\n",
    "VxN_ghost = - VxC\n",
    "dVxdy = (1 - NeuN - DirN) * (VxN-VxC)/dy + NeuN * 0 + DirN * (VxN_ghost-VxC)/dy\n",
    "ExyN  = Rational(1,2) * ( dVxdy + (VyNE-VyNW)/dx )\n",
    "TxyN  = 2*eN*ExyN\n",
    "#---------------------------------------#\n",
    "f = (TxxE-TxxW)/dx + (TxyN-TxyS)/dy - (PtE-PtW)/dx\n",
    "f *= -1\n",
    "#---------------------------------------#\n",
    "print('K[ii,iS]  = ' + julia_code(f.diff(VxS)))\n",
    "print('K[ii,iW]  = ' + julia_code(f.diff(VxW)))\n",
    "print('K[ii,iC]  = ' + julia_code(f.diff(VxC)))\n",
    "print('K[ii,iE]  = ' + julia_code(f.diff(VxE)))\n",
    "print('K[ii,iN]  = ' + julia_code(f.diff(VxN)))\n",
    "print('K[ii,iSW] = ' + julia_code(f.diff(VySW)))\n",
    "print('K[ii,iSE] = ' + julia_code(f.diff(VySE)))\n",
    "print('K[ii,iNW] = ' + julia_code(f.diff(VyNW)))\n",
    "print('K[ii,iNE] = ' + julia_code(f.diff(VyNE)))\n",
    "print('K[ii,iPW] = ' + julia_code(f.diff(PtW)))\n",
    "print('K[ii,iPE] = ' + julia_code(f.diff(PtE)))"
   ]
  },
  {
   "cell_type": "code",
   "execution_count": 13,
   "metadata": {},
   "outputs": [
    {
     "name": "stdout",
     "output_type": "stream",
     "text": [
      "K[ii,iS]  = -4 // 3 * eS ./ dy .^ 2\n",
      "K[ii,iW]  = -eW .* (-DirW - NeuW + 1) ./ dx .^ 2\n",
      "K[ii,iC]  = -(-4 // 3 * eN ./ dy - 4 // 3 * eS ./ dy) ./ dy - (2 * eE .* (-DirE ./ dx - (-DirE - NeuE + 1) ./ (2 * dx)) - 2 * eW .* (DirW ./ dx + (-DirW - NeuW + 1) ./ (2 * dx))) ./ dx\n",
      "K[ii,iE]  = -eE .* (-DirE - NeuE + 1) ./ dx .^ 2\n",
      "K[ii,iN]  = -4 // 3 * eN ./ dy .^ 2\n",
      "K[ii,iSW] = (2 // 3) * eS ./ (dx .* dy) - eW ./ (dx .* dy)\n",
      "K[ii,iSE] = eE ./ (dx .* dy) - 2 // 3 * eS ./ (dx .* dy)\n",
      "K[ii,iNW] = -2 // 3 * eN ./ (dx .* dy) + eW ./ (dx .* dy)\n",
      "K[ii,iNE] = -eE ./ (dx .* dy) + (2 // 3) * eN ./ (dx .* dy)\n",
      "K[ii,iPS] = -1 ./ dy\n",
      "K[ii,iPN] = 1 ./ dy\n"
     ]
    }
   ],
   "source": [
    "# Stokes y\n",
    "VyC, VyW, VyE, VyS, VyN = symbols('VyC, VyW, VyE, VyS, VyN')\n",
    "VxSW, VxSE, VxNW, VxNE  = symbols('VxSW, VxSE, VxNW, VxNE')\n",
    "PtS, PtN = symbols('PtS, PtN')\n",
    "eW, eE, eS, eN = symbols('eW, eE, eS, eN')\n",
    "NeuW, DirW, NeuE, DirE = symbols('NeuW, DirW, NeuE, DirE')\n",
    "#---------------------------------------#\n",
    "divVS = (VyC-VyS)/dy + (VxSE-VxSW)/dx\n",
    "EyyS  = (VyC-VyS)/dy - Rational(1,3)*divVS\n",
    "TyyS  = 2*eS*EyyS\n",
    "#---------------------------------------#\n",
    "divVN = (VyN-VyC)/dy + (VxNE-VxNW)/dx\n",
    "EyyN  = (VyN-VyC)/dy - Rational(1,3)*divVN\n",
    "TyyN  = 2*eN*EyyN\n",
    "#---------------------------------------#\n",
    "VyW_ghost = -VyC\n",
    "dVydx = (1 - NeuW - DirW) * (VyC-VyW)/dx + NeuW * 0 + DirW * (VyC-VyW_ghost)/dx\n",
    "ExyW  = Rational(1,2) * ( dVydx + (VxNW-VxSW)/dy )\n",
    "TxyW  = 2*eW*ExyW\n",
    "#---------------------------------------#\n",
    "VyE_ghost = -VyC\n",
    "dVydx = (1 - NeuE - DirE) * (VyE-VyC)/dx + NeuE * 0 + DirE * (VyE_ghost-VyC)/dx\n",
    "ExyE  = Rational(1,2) * ( dVydx + (VxNE-VxSE)/dy )\n",
    "TxyE  = 2*eE*ExyE\n",
    "#---------------------------------------#\n",
    "f = (TyyN-TyyS)/dy + (TxyE-TxyW)/dx - (PtN-PtS)/dy\n",
    "f *= -1\n",
    "#---------------------------------------#\n",
    "print('K[ii,iS]  = ' + julia_code(f.diff(VyS)))\n",
    "print('K[ii,iW]  = ' + julia_code(f.diff(VyW)))\n",
    "print('K[ii,iC]  = ' + julia_code(f.diff(VyC)))\n",
    "print('K[ii,iE]  = ' + julia_code(f.diff(VyE)))\n",
    "print('K[ii,iN]  = ' + julia_code(f.diff(VyN)))\n",
    "print('K[ii,iSW] = ' + julia_code(f.diff(VxSW)))\n",
    "print('K[ii,iSE] = ' + julia_code(f.diff(VxSE)))\n",
    "print('K[ii,iNW] = ' + julia_code(f.diff(VxNW)))\n",
    "print('K[ii,iNE] = ' + julia_code(f.diff(VxNE)))\n",
    "print('K[ii,iPS] = ' + julia_code(f.diff(PtS)))\n",
    "print('K[ii,iPN] = ' + julia_code(f.diff(PtN)))"
   ]
  },
  {
   "cell_type": "code",
   "execution_count": null,
   "metadata": {},
   "outputs": [],
   "source": []
  }
 ],
 "metadata": {
  "kernelspec": {
   "display_name": "Python 3",
   "language": "python",
   "name": "python3"
  },
  "language_info": {
   "codemirror_mode": {
    "name": "ipython",
    "version": 3
   },
   "file_extension": ".py",
   "mimetype": "text/x-python",
   "name": "python",
   "nbconvert_exporter": "python",
   "pygments_lexer": "ipython3",
   "version": "3.9.6"
  }
 },
 "nbformat": 4,
 "nbformat_minor": 2
}
